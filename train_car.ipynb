{
 "cells": [
  {
   "cell_type": "code",
   "execution_count": 37,
   "metadata": {},
   "outputs": [],
   "source": [
    "import numpy as np\n",
    "import tensorflow as tf\n",
    "import pandas as pd\n",
    "import keras\n",
    "import cv2\n",
    "import matplotlib.pyplot as plt\n",
    "import matplotlib.image as mpimg\n",
    "from keras.models import Sequential\n",
    "from keras.layers import Flatten,Dense,Lambda,Convolution2D,MaxPooling2D,Dropout,Cropping2D"
   ]
  },
  {
   "cell_type": "code",
   "execution_count": 38,
   "metadata": {},
   "outputs": [],
   "source": [
    "train = pd.read_csv('train/driving_log.csv',header=None)\n",
    "images = []\n",
    "measurements = []"
   ]
  },
  {
   "cell_type": "code",
   "execution_count": 39,
   "metadata": {},
   "outputs": [],
   "source": [
    "for i,j in train.iterrows():\n",
    "    img1 = mpimg.imread(j[0])\n",
    "    img2 = mpimg.imread(j[1])\n",
    "    img3 = mpimg.imread(j[2])\n",
    "    images.append(img1)\n",
    "    images.append(img2)\n",
    "    images.append(img3)\n",
    "for i in train[3]:\n",
    "    correction = 0.2\n",
    "    measurements.append(float(i))\n",
    "    measurements.append(float(i)+correction) # left\n",
    "    measurements.append(float(i)-correction) # right"
   ]
  },
  {
   "cell_type": "code",
   "execution_count": 40,
   "metadata": {},
   "outputs": [],
   "source": [
    "X_data = np.array(images)\n",
    "y_data = np.array(measurements)"
   ]
  },
  {
   "cell_type": "code",
   "execution_count": 41,
   "metadata": {},
   "outputs": [
    {
     "name": "stdout",
     "output_type": "stream",
     "text": [
      "(160, 320, 3)\n"
     ]
    }
   ],
   "source": [
    "shape = X_data[1].shape\n",
    "print(shape)"
   ]
  },
  {
   "cell_type": "code",
   "execution_count": 42,
   "metadata": {},
   "outputs": [],
   "source": [
    "model = Sequential()\n",
    "model.add(Lambda(lambda x: x/255.0 -0.5,input_shape=(160,320,3)))\n",
    "model.add(Cropping2D(cropping=((70,20),(0,0))))\n",
    "model.add(Convolution2D(24,(5,5),strides=(2,2),activation='relu'))\n",
    "model.add(Convolution2D(36,(5,5),strides=(2,2),activation='relu'))\n",
    "model.add(Convolution2D(48,(5,5),strides=(2,2),activation='relu'))\n",
    "model.add(Convolution2D(64,(3,3),activation='relu'))\n",
    "model.add(Convolution2D(64,(3,3),activation='relu'))\n",
    "model.add(Dropout(0.5))\n",
    "\n",
    "model.add(Flatten())\n",
    "model.add(Dense(100,activation='relu'))\n",
    "model.add(Dense(50,activation='relu'))\n",
    "model.add(Dense(10,activation='relu'))\n",
    "model.add(Dropout(0.5))\n",
    "\n",
    "model.add(Dense(1))"
   ]
  },
  {
   "cell_type": "code",
   "execution_count": 43,
   "metadata": {},
   "outputs": [
    {
     "name": "stdout",
     "output_type": "stream",
     "text": [
      "Train on 5563 samples, validate on 1391 samples\n",
      "Epoch 1/6\n",
      "5563/5563 [==============================] - 166s 30ms/step - loss: 0.0382 - val_loss: 0.0247\n",
      "Epoch 2/6\n",
      "5563/5563 [==============================] - 145s 26ms/step - loss: 0.0322 - val_loss: 0.0212\n",
      "Epoch 3/6\n",
      "5563/5563 [==============================] - 141s 25ms/step - loss: 0.0308 - val_loss: 0.0191\n",
      "Epoch 4/6\n",
      "5563/5563 [==============================] - 140s 25ms/step - loss: 0.0293 - val_loss: 0.0213\n",
      "Epoch 5/6\n",
      "5563/5563 [==============================] - 138s 25ms/step - loss: 0.0276 - val_loss: 0.0224\n",
      "Epoch 6/6\n",
      "5563/5563 [==============================] - 128s 23ms/step - loss: 0.0276 - val_loss: 0.0195\n"
     ]
    }
   ],
   "source": [
    "model.compile(loss='mse',optimizer='Adam')\n",
    "his = model.fit(X_data,y_data,validation_split=0.2,shuffle=True,epochs=6,verbose =1)\n",
    "model.save('model1.h5')"
   ]
  },
  {
   "cell_type": "code",
   "execution_count": 44,
   "metadata": {},
   "outputs": [
    {
     "name": "stdout",
     "output_type": "stream",
     "text": [
      "dict_keys(['loss', 'val_loss'])\n"
     ]
    },
    {
     "data": {
      "image/png": "[encoded data removed]",
      "text/plain": [
       "<matplotlib.figure.Figure at 0x2006b2af2b0>"
      ]
     },
     "metadata": {},
     "output_type": "display_data"
    }
   ],
   "source": [
    "print(his.history.keys())\n",
    "\n",
    "### plot the training and validation loss for each epoch\n",
    "plt.plot(his.history['loss'])\n",
    "plt.plot(his.history['val_loss'])\n",
    "plt.title('model mean squared error loss')\n",
    "plt.ylabel('mean squared error loss')\n",
    "plt.xlabel('epoch')\n",
    "plt.legend(['training set', 'validation set'], loc='upper right')\n",
    "plt.show()"
   ]
  },
  {
   "cell_type": "code",
   "execution_count": null,
   "metadata": {
    "collapsed": true
   },
   "outputs": [],
   "source": []
  }
 ],
 "metadata": {
  "kernelspec": {
   "display_name": "Python 3",
   "language": "python",
   "name": "python3"
  },
  "language_info": {
   "codemirror_mode": {
    "name": "ipython",
    "version": 3
   },
   "file_extension": ".py",
   "mimetype": "text/x-python",
   "name": "python",
   "nbconvert_exporter": "python",
   "pygments_lexer": "ipython3",
   "version": "3.5.4"
  }
 },
 "nbformat": 4,
 "nbformat_minor": 2
}
